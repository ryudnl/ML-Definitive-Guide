{
 "cells": [
  {
   "cell_type": "code",
   "execution_count": null,
   "id": "6cdcaca4-606a-4a1b-a3e2-757ec93a03a6",
   "metadata": {},
   "outputs": [],
   "source": []
  }
 ],
 "metadata": {
  "kernelspec": {
   "display_name": "",
   "name": ""
  },
  "language_info": {
   "name": ""
  }
 },
 "nbformat": 4,
 "nbformat_minor": 5
}
